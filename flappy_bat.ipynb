{
 "cells": [
  {
   "cell_type": "markdown",
   "metadata": {},
   "source": [
    "# Flappy Bat"
   ]
  },
  {
   "cell_type": "markdown",
   "metadata": {},
   "source": []
  },
  {
   "cell_type": "markdown",
   "metadata": {},
   "source": [
    "first of all, we need to initialize our game and the size of a screen. After a few tests, I decided to make this app easy to use on a telephone screen. The best size for that is 288,512"
   ]
  },
  {
   "cell_type": "code",
   "execution_count": 1,
   "metadata": {
    "ExecuteTime": {
     "end_time": "2021-04-25T09:12:29.254066Z",
     "start_time": "2021-04-25T09:12:29.202021Z"
    }
   },
   "outputs": [
    {
     "name": "stdout",
     "output_type": "stream",
     "text": [
      "pygame 2.0.1 (SDL 2.0.14, Python 3.7.3)\n",
      "Hello from the pygame community. https://www.pygame.org/contribute.html\n"
     ]
    }
   ],
   "source": [
    "#importing needed libraries\n",
    "import pygame, sys, random"
   ]
  },
  {
   "cell_type": "code",
   "execution_count": 2,
   "metadata": {
    "ExecuteTime": {
     "end_time": "2021-04-25T09:45:43.181651Z",
     "start_time": "2021-04-25T09:12:29.393553Z"
    }
   },
   "outputs": [
    {
     "ename": "SystemExit",
     "evalue": "",
     "output_type": "error",
     "traceback": [
      "An exception has occurred, use %tb to see the full traceback.\n",
      "\u001b[1;31mSystemExit\u001b[0m\n"
     ]
    },
    {
     "name": "stderr",
     "output_type": "stream",
     "text": [
      "c:\\users\\korostylev.v\\appdata\\local\\programs\\python\\python37\\lib\\site-packages\\IPython\\core\\interactiveshell.py:3304: UserWarning: To exit: use 'exit', 'quit', or Ctrl-D.\n",
      "  warn(\"To exit: use 'exit', 'quit', or Ctrl-D.\", stacklevel=1)\n"
     ]
    }
   ],
   "source": [
    "#creating functions to draw, move and define elements on the screen\n",
    "\n",
    "def move_floor():\n",
    "    \"\"\"creates two images of floor\"\"\"\n",
    "    screen.blit(floor,(floor_x,412))\n",
    "    screen.blit(floor,(floor_x+288,412))\n",
    "\n",
    "def create_pipe():\n",
    "    random_pipe=random.choice(height)\n",
    "    top_pipe=pipe_img.get_rect(midtop=(450,random_pipe))\n",
    "    bottom_pipe = pipe_img.get_rect(midbottom=(500,random_pipe-135))\n",
    "    return bottom_pipe, top_pipe\n",
    "\n",
    "def move_pipe(pipes):\n",
    "    for pipe in pipes:\n",
    "        pipe.centerx-=3\n",
    "    return pipes\n",
    "    \n",
    "def draw_pipe(pipes):\n",
    "    for pipe in pipes:\n",
    "        if pipe.bottom >=512:\n",
    "            screen.blit(pipe_img,pipe)\n",
    "        else:\n",
    "            flip_pipe=pygame.transform.flip(pipe_img,False,True)\n",
    "            screen.blit(flip_pipe,pipe)\n",
    "\n",
    "            \n",
    "def check_intersect(pipes):\n",
    "    \"this function helps to understand the intersect of the bat with other objects (if True, you loose)\"\n",
    "    for pipe in pipes:\n",
    "        if bat_rect.colliderect(pipe):\n",
    "            return False\n",
    "    if bat_rect.top <=-100 or bat_rect.bottom >=412:\n",
    "        return False\n",
    "    return True  \n",
    "\n",
    "def score_draw():\n",
    "    \"function to draw score via game and top score, if game is ended\"\n",
    "    if game_active:\n",
    "        score_surf=game_font.render(str(score),True,(255,255,255))\n",
    "        score_rect=score_surf.get_rect(center=(144,100))\n",
    "        screen.blit(score_surf,score_rect)\n",
    "    else:\n",
    "        top_score_surf=game_font.render(('Your record:'+str(top_score)),True,(255,255,255))\n",
    "        top_score_rect=top_score_surf.get_rect(center=(144,100))\n",
    "        screen.blit(top_score_surf,top_score_rect)\n",
    "\n",
    "\n",
    "pygame.init()\n",
    "screen=pygame.display.set_mode((288,512))\n",
    "\n",
    "#we need to limit frames (how fast will be the game):\n",
    "clock=pygame.time.Clock()\n",
    "#I also download the original text style\n",
    "game_font = pygame.font.Font('04B_19.ttf',20)\n",
    "\n",
    "#game variables\n",
    "#the bird need to fall when not hitting 'space'. For this we will use gravity\n",
    "gravity=0.13\n",
    "bat_movement=0\n",
    "#First we will display cover page. For this game should be unactive\n",
    "game_active=False\n",
    "#user starts with score 0 and every 'space' gives him +1\n",
    "score=0\n",
    "#calculate the max score over games within one run\n",
    "top_score=0\n",
    "#to make the floor move, we will create one by one image and move it via x\n",
    "floor_x=0\n",
    "\n",
    "#for the background, floor, cover we will use our own pictures\n",
    "background=pygame.image.load('imgs/bg.png')\n",
    "floor=pygame.image.load('imgs/floor.png')\n",
    "cover=pygame.image.load('imgs/cover.png')\n",
    "\n",
    "\n",
    "\n",
    "\n",
    "#importing bat and put it in the ractangle to make it interractive with other objects in the game\n",
    "bat=pygame.image.load('imgs/bat.png')\n",
    "#setting the default possition\n",
    "bat_rect=bat.get_rect(center=(50,256))\n",
    "\n",
    "#importing pipe and putting it in the ractangle to make interractive\n",
    "pipe_img=pygame.image.load('imgs/pipe.png')\n",
    "pipe_list=[]\n",
    "SPAWNPIPE=pygame.USEREVENT\n",
    "pygame.time.set_timer(SPAWNPIPE,1100)\n",
    "height=[200,250,300]\n",
    "\n",
    "#also, we will use a while loop for the screen to be available all the time\n",
    "while True:\n",
    "    #We need an option to break it.\n",
    "    #For this we will create a quit option.\n",
    "    #To catch all the events from the keyboard and mouse, there is event.get\n",
    "    for event in pygame.event.get():\n",
    "        if event.type==pygame.QUIT:\n",
    "            pygame.quit()\n",
    "            sys.exit()\n",
    "        elif event.type == pygame.KEYDOWN:\n",
    "            if event.key == pygame.K_SPACE:\n",
    "                #while user hits the space the bat is moving up\n",
    "                bat_movement=0\n",
    "                bat_movement-=3\n",
    "                score+=1\n",
    "            if event.key == pygame.K_SPACE and game_active == False:\n",
    "                #if we hit the pipe or floor we will display the cover and best score\n",
    "                game_active=True\n",
    "                pipe_list.clear()\n",
    "                bat_rect.center=(50,256)\n",
    "                bat_movement=0\n",
    "                score=0\n",
    "        elif event.type == SPAWNPIPE:\n",
    "            pipe_list.extend(create_pipe())\n",
    "            \n",
    "    #display background\n",
    "    screen.blit(background,(0,0))\n",
    "    \n",
    "    if game_active:\n",
    "        #display bat and move it\n",
    "        bat_movement += gravity\n",
    "        bat_rect.centery +=bat_movement\n",
    "        screen.blit(bat,bat_rect)\n",
    "        game_active=check_intersect(pipe_list)\n",
    "        if top_score<score:\n",
    "            top_score=score\n",
    "        \n",
    "        #pipes\n",
    "        pipe_list = move_pipe(pipe_list)\n",
    "        draw_pipe(pipe_list)\n",
    "        score_draw()\n",
    "\n",
    "        #displaying moving floor\n",
    "        floor_x -= 3\n",
    "        move_floor()\n",
    "        if floor_x<-288:\n",
    "            floor_x=0\n",
    "            \n",
    "    else:\n",
    "        #if we are dead show cover\n",
    "        screen.blit(cover,(0,0))\n",
    "        score_draw()\n",
    "        \n",
    "    pygame.display.update()\n",
    "    clock.tick(120)"
   ]
  },
  {
   "cell_type": "code",
   "execution_count": null,
   "metadata": {},
   "outputs": [],
   "source": []
  }
 ],
 "metadata": {
  "kernelspec": {
   "display_name": "Python 3",
   "language": "python",
   "name": "python3"
  },
  "language_info": {
   "codemirror_mode": {
    "name": "ipython",
    "version": 3
   },
   "file_extension": ".py",
   "mimetype": "text/x-python",
   "name": "python",
   "nbconvert_exporter": "python",
   "pygments_lexer": "ipython3",
   "version": "3.7.3"
  }
 },
 "nbformat": 4,
 "nbformat_minor": 2
}
